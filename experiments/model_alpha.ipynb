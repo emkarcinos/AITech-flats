{
 "cells": [
  {
   "cell_type": "code",
   "execution_count": 1,
   "metadata": {
    "collapsed": false
   },
   "outputs": [],
   "source": [
    "import datetime\n",
    "import os\n",
    "import sys\n",
    "import time\n",
    "\n",
    "# Hack for module imports\n",
    "module_path = os.path.abspath(os.path.join('../data'))\n",
    "if module_path not in sys.path:\n",
    "    sys.path.append(module_path)\n",
    "\n",
    "from loaders import FlatsDatasetLoader\n",
    "\n",
    "import numpy as np\n",
    "import torch\n",
    "import torch.nn as nn\n",
    "from sklearn.metrics import accuracy_score, precision_recall_fscore_support\n",
    "from tqdm import tqdm\n",
    "\n",
    "from plots import plot_metrics"
   ]
  },
  {
   "cell_type": "code",
   "execution_count": 2,
   "metadata": {
    "collapsed": false
   },
   "outputs": [
    {
     "name": "stdout",
     "output_type": "stream",
     "text": [
      "Will operate on device cuda\n"
     ]
    }
   ],
   "source": [
    "device = torch.device('cuda' if torch.cuda.is_available() else 'cpu')\n",
    "print(f'Will operate on device {device}')"
   ]
  },
  {
   "cell_type": "code",
   "execution_count": 3,
   "metadata": {
    "collapsed": false
   },
   "outputs": [
    {
     "name": "stdout",
     "output_type": "stream",
     "text": [
      "Loading dataset from files...\n",
      "Broken file: ..\\data\\images\\train\\Industrial\\646.jpg\n",
      "Done. Creating PyTorch datasets...\n",
      "Done.\n"
     ]
    }
   ],
   "source": [
    "image_size = 200\n",
    "\n",
    "data_loader = FlatsDatasetLoader(\n",
    "    images_dir='../data/images',\n",
    "    resize_to=image_size,\n",
    "    device=device,\n",
    "    batch_size=400\n",
    ")\n",
    "data_loader.load(verbose=True)\n",
    "train_loader = data_loader.get_train_loader()\n",
    "test_loader = data_loader.get_train_loader()\n",
    "classes_count = data_loader.get_classes_count()"
   ]
  },
  {
   "cell_type": "code",
   "execution_count": 4,
   "metadata": {
    "collapsed": false
   },
   "outputs": [],
   "source": [
    "def evaluate(model, test_data, loss_fn):\n",
    "    \"\"\"\n",
    "    Test a given model and return:\n",
    "    - mean loss\n",
    "    - accuracy\n",
    "    - precision\n",
    "    - recall\n",
    "    - f-score\n",
    "    \"\"\"\n",
    "    model.eval()\n",
    "    outputs, losses = np.array([]), []\n",
    "    ys = np.array([])\n",
    "    with torch.no_grad():\n",
    "        for data in test_data:\n",
    "            x_cpu, y_cpu = data\n",
    "            x = x_cpu.to(device).float()\n",
    "            y = y_cpu.to(device).long()\n",
    "            ys = np.concatenate((ys, y_cpu.data.numpy()))\n",
    "            output = model(x)\n",
    "            loss = loss_fn(output, y)\n",
    "            outputs = np.concatenate(\n",
    "                (outputs, torch.nn.functional.softmax(output, dim=1).cpu().data.numpy().argmax(axis=1))\n",
    "            )\n",
    "            losses.append(loss.item())\n",
    "    precision, recall, f, _ = precision_recall_fscore_support(\n",
    "        ys,\n",
    "        outputs,\n",
    "        average='weighted',\n",
    "        zero_division=1\n",
    "    )\n",
    "    accuracy = accuracy_score(ys, outputs)\n",
    "    return losses[0], accuracy, precision, recall, f"
   ]
  },
  {
   "cell_type": "code",
   "execution_count": 5,
   "metadata": {
    "collapsed": false
   },
   "outputs": [],
   "source": [
    "def train(model, train_data, test_data, optimizer_fn, loss_fn, epochs):\n",
    "    model.train()\n",
    "    metrics = {\n",
    "        \"loss\": [],\n",
    "        \"acc\": [],\n",
    "        \"precision\": [],\n",
    "        \"recall\": [],\n",
    "        \"f\": []\n",
    "    }\n",
    "    for _ in tqdm(range(epochs), total=epochs):\n",
    "        losses = []\n",
    "        for batch_num, input_data in enumerate(train_data):\n",
    "            optimizer_fn.zero_grad()\n",
    "            x, y = input_data\n",
    "            x = x.to(device).float()\n",
    "            y = y.to(device).long()\n",
    "\n",
    "            output = model(x)\n",
    "            loss = loss_fn(output, y)\n",
    "            loss.backward()\n",
    "            losses.append(loss.item())\n",
    "\n",
    "            optimizer_fn.step()\n",
    "        l, a, p, r, f = evaluate(model, test_data, loss_fn)\n",
    "        metrics['loss'].append(l)\n",
    "        metrics['acc'].append(a)\n",
    "        metrics['precision'].append(p)\n",
    "        metrics['recall'].append(r)\n",
    "        metrics['f'].append(f)\n",
    "\n",
    "    return metrics"
   ]
  },
  {
   "cell_type": "code",
   "execution_count": 6,
   "metadata": {
    "collapsed": false
   },
   "outputs": [],
   "source": [
    "def conduct_experiment(title, model, n_epochs, optimizer):\n",
    "    criterion = nn.CrossEntropyLoss()\n",
    "\n",
    "    start = time.time()\n",
    "    metrics = train(model, train_loader, test_loader, optimizer, criterion, n_epochs)\n",
    "    end = time.time()\n",
    "    model_directory = os.path.join('models', title)\n",
    "    path = os.path.join(model_directory, f'{datetime.datetime.now().strftime(\"%y-%b-%d-%H-%M\")}.pt')\n",
    "    try:\n",
    "        os.mkdir(model_directory)\n",
    "    except FileExistsError:\n",
    "        pass\n",
    "    torch.save(model, path)\n",
    "    print(f'Model saved in {path}')\n",
    "    plot_metrics(title, metrics, n_epochs, end - start, image_size, device)"
   ]
  },
  {
   "cell_type": "code",
   "execution_count": 7,
   "metadata": {
    "collapsed": false
   },
   "outputs": [
    {
     "name": "stderr",
     "output_type": "stream",
     "text": [
      "Using cache found in C:\\Users\\komar/.cache\\torch\\hub\\pytorch_vision_v0.10.0\n"
     ]
    }
   ],
   "source": [
    "resnet_model = torch.hub.load(\n",
    "    'pytorch/vision:v0.10.0',\n",
    "    'resnet18',\n",
    "    num_classes=data_loader.get_classes_count()\n",
    ").to(device)"
   ]
  },
  {
   "cell_type": "code",
   "execution_count": 8,
   "metadata": {
    "collapsed": false
   },
   "outputs": [
    {
     "name": "stderr",
     "output_type": "stream",
     "text": [
      "  4%|▍         | 4/100 [04:40<1:52:04, 70.05s/it]\n",
      "\n",
      "KeyboardInterrupt\n",
      "\n"
     ]
    }
   ],
   "source": [
    "conduct_experiment(\"ResNet18\", resnet_model, 100, torch.optim.Adam(resnet_model.parameters()))"
   ]
  },
  {
   "cell_type": "markdown",
   "metadata": {
    "collapsed": false
   },
   "source": []
  }
 ],
 "metadata": {
  "kernelspec": {
   "display_name": "Python 3",
   "language": "python",
   "name": "python3"
  },
  "language_info": {
   "codemirror_mode": {
    "name": "ipython",
    "version": 2
   },
   "file_extension": ".py",
   "mimetype": "text/x-python",
   "name": "python",
   "nbconvert_exporter": "python",
   "pygments_lexer": "ipython2",
   "version": "2.7.6"
  }
 },
 "nbformat": 4,
 "nbformat_minor": 0
}
